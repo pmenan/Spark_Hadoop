{
  "nbformat": 4,
  "nbformat_minor": 0,
  "metadata": {
    "colab": {
      "name": "stockEtablissementAnalyse.ipynb",
      "provenance": [],
      "collapsed_sections": []
    },
    "kernelspec": {
      "name": "python3",
      "display_name": "Python 3"
    },
    "language_info": {
      "name": "python"
    }
  },
  "cells": [
    {
      "cell_type": "code",
      "metadata": {
        "id": "TIfTdhmiy4-N",
        "colab": {
          "base_uri": "https://localhost:8080/"
        },
        "outputId": "9d0adefe-4d17-4762-d471-7725ac9a03a1"
      },
      "source": [
        "#Connexion drive\n",
        "from google.colab import drive\n",
        "drive.mount('/content/drive')"
      ],
      "execution_count": 2,
      "outputs": [
        {
          "output_type": "stream",
          "name": "stdout",
          "text": [
            "Mounted at /content/drive\n"
          ]
        }
      ]
    },
    {
      "cell_type": "code",
      "source": [
        "!unzip \"/content/drive/MyDrive/Colab Notebooks/debut_pySpark/StockEtablissement_utf8.zip\""
      ],
      "metadata": {
        "colab": {
          "base_uri": "https://localhost:8080/"
        },
        "id": "aDgUfQ9Ot_-J",
        "outputId": "b2a76be4-9471-4ea7-a327-b1722643df2a"
      },
      "execution_count": 5,
      "outputs": [
        {
          "output_type": "stream",
          "name": "stdout",
          "text": [
            "Archive:  /content/drive/MyDrive/Colab Notebooks/debut_pySpark/StockEtablissement_utf8.zip\n",
            "  inflating: StockEtablissement_utf8.csv  \n"
          ]
        }
      ]
    },
    {
      "cell_type": "code",
      "source": [
        "#Configuration de spark\n",
        "#1 - Téléchargement de JAVA\n",
        "!apt-get install openjdk-8-jdk-headless -qq > /dev/null"
      ],
      "metadata": {
        "id": "mXgLiIYEvLBt"
      },
      "execution_count": 6,
      "outputs": []
    },
    {
      "cell_type": "code",
      "source": [
        "#2 - Installation de Apache Spark 3.0.1 avec Hadoop 2.7 \n",
        "!wget -q https://dlcdn.apache.org/spark/spark-3.2.1/spark-3.2.1-bin-hadoop3.2.tgz"
      ],
      "metadata": {
        "id": "mJPmBTeIv_yL"
      },
      "execution_count": 16,
      "outputs": []
    },
    {
      "cell_type": "code",
      "source": [
        "#3 - Decompression dossier spark-3.0.1-bin-hadoop2.7.tgz\n",
        "!tar xf spark-3.2.1-bin-hadoop3.2.tgz\n"
      ],
      "metadata": {
        "id": "8qlaZwt_wlpn"
      },
      "execution_count": 18,
      "outputs": []
    },
    {
      "cell_type": "code",
      "source": [
        "#4 - installation de la bibliothèque findspark\n",
        "#Il localisera Spark sur le système et l'importera en tant que bibliothèque standard.\n",
        "!pip install -q findspark"
      ],
      "metadata": {
        "id": "8JwxY_6mw9Hq"
      },
      "execution_count": 19,
      "outputs": []
    },
    {
      "cell_type": "code",
      "source": [
        "#5 - chemin de l'environnement\n",
        "#Cela nous permettra d'exécuter Pyspark dans l'environnement Colab.\n",
        "import os\n",
        "os.environ[\"JAVA_HOME\"] = \"/usr/lib/jvm/java-8-openjdk-amd64\"\n",
        "os.environ[\"SPARK_HOME\"] = \"/content/spark-3.2.1-bin-hadoop3.2\""
      ],
      "metadata": {
        "id": "Ecp5QpMkx2Jm"
      },
      "execution_count": 24,
      "outputs": []
    },
    {
      "cell_type": "code",
      "source": [
        "#Test de la bonne installation et configuration de notre environnement Spark et Hadoop\n",
        "import findspark\n",
        "findspark.init()"
      ],
      "metadata": {
        "id": "mfDMQv0lvAVF"
      },
      "execution_count": 25,
      "outputs": []
    },
    {
      "cell_type": "code",
      "source": [
        "#Emplacement où Spark est installé\n",
        "findspark.find()"
      ],
      "metadata": {
        "colab": {
          "base_uri": "https://localhost:8080/",
          "height": 35
        },
        "id": "jhunmgtJ4iqu",
        "outputId": "ae0f141a-b96a-4341-a79e-09068eaac6cd"
      },
      "execution_count": 26,
      "outputs": [
        {
          "output_type": "execute_result",
          "data": {
            "text/plain": [
              "'/content/spark-3.2.1-bin-hadoop3.2'"
            ],
            "application/vnd.google.colaboratory.intrinsic+json": {
              "type": "string"
            }
          },
          "metadata": {},
          "execution_count": 26
        }
      ]
    },
    {
      "cell_type": "code",
      "source": [
        "#Creation d'une SparkSession, qui est le point d'entrée de Spark.\n",
        "from pyspark.sql import SparkSession\n",
        "\n",
        "spark = SparkSession.builder\\\n",
        "        .master(\"local\")\\\n",
        "        .appName(\"Colab\")\\\n",
        "        .config('spark.ui.port', '4050')\\\n",
        "        .getOrCreate()"
      ],
      "metadata": {
        "id": "vOgyZD7c4ogT"
      },
      "execution_count": 27,
      "outputs": []
    },
    {
      "cell_type": "code",
      "source": [
        "spark"
      ],
      "metadata": {
        "colab": {
          "base_uri": "https://localhost:8080/",
          "height": 219
        },
        "id": "1oJ6e7K_5j56",
        "outputId": "94e84c10-84d0-4099-8122-452c00c67525"
      },
      "execution_count": 28,
      "outputs": [
        {
          "output_type": "execute_result",
          "data": {
            "text/plain": [
              "<pyspark.sql.session.SparkSession at 0x7fdfe1c62f50>"
            ],
            "text/html": [
              "\n",
              "            <div>\n",
              "                <p><b>SparkSession - in-memory</b></p>\n",
              "                \n",
              "        <div>\n",
              "            <p><b>SparkContext</b></p>\n",
              "\n",
              "            <p><a href=\"http://4eb2c8356a55:4050\">Spark UI</a></p>\n",
              "\n",
              "            <dl>\n",
              "              <dt>Version</dt>\n",
              "                <dd><code>v3.2.1</code></dd>\n",
              "              <dt>Master</dt>\n",
              "                <dd><code>local</code></dd>\n",
              "              <dt>AppName</dt>\n",
              "                <dd><code>Colab</code></dd>\n",
              "            </dl>\n",
              "        </div>\n",
              "        \n",
              "            </div>\n",
              "        "
            ]
          },
          "metadata": {},
          "execution_count": 28
        }
      ]
    },
    {
      "cell_type": "code",
      "source": [
        "#URL publique pour la page de l'interface utilisateur\n",
        "!wget https://bin.equinox.io/c/4VmDzA7iaHb/ngrok-stable-linux-amd64.zip\n",
        "!unzip ngrok-stable-linux-amd64.zip\n",
        "get_ipython().system_raw('./ngrok http 4050 &')\n",
        "!curl -s http://localhost:4040/api/tunnels"
      ],
      "metadata": {
        "colab": {
          "base_uri": "https://localhost:8080/"
        },
        "id": "jImUcgU56TXW",
        "outputId": "76cb21e6-f347-4242-8833-e2c749b9bee2"
      },
      "execution_count": 29,
      "outputs": [
        {
          "output_type": "stream",
          "name": "stdout",
          "text": [
            "--2022-04-26 22:06:53--  https://bin.equinox.io/c/4VmDzA7iaHb/ngrok-stable-linux-amd64.zip\n",
            "Resolving bin.equinox.io (bin.equinox.io)... 52.202.168.65, 18.205.222.128, 54.161.241.46, ...\n",
            "Connecting to bin.equinox.io (bin.equinox.io)|52.202.168.65|:443... connected.\n",
            "HTTP request sent, awaiting response... 200 OK\n",
            "Length: 13832437 (13M) [application/octet-stream]\n",
            "Saving to: ‘ngrok-stable-linux-amd64.zip’\n",
            "\n",
            "ngrok-stable-linux- 100%[===================>]  13.19M  6.60MB/s    in 2.0s    \n",
            "\n",
            "2022-04-26 22:06:56 (6.60 MB/s) - ‘ngrok-stable-linux-amd64.zip’ saved [13832437/13832437]\n",
            "\n",
            "Archive:  ngrok-stable-linux-amd64.zip\n",
            "  inflating: ngrok                   \n",
            "{\"tunnels\":[],\"uri\":\"/api/tunnels\"}\n"
          ]
        }
      ]
    },
    {
      "cell_type": "code",
      "source": [
        "#Chargement jeu de données\n",
        "df = spark.read.csv(\"StockEtablissement_utf8.csv\", header=True, inferSchema=True)"
      ],
      "metadata": {
        "id": "T5up6ltM6b6Z"
      },
      "execution_count": 30,
      "outputs": []
    },
    {
      "cell_type": "code",
      "source": [
        "#Affichage du schema des données\n",
        "df.printSchema()"
      ],
      "metadata": {
        "colab": {
          "base_uri": "https://localhost:8080/"
        },
        "id": "jDezaWx68-Co",
        "outputId": "32011f64-2d4a-423a-fe58-b283c61b87cc"
      },
      "execution_count": 31,
      "outputs": [
        {
          "output_type": "stream",
          "name": "stdout",
          "text": [
            "root\n",
            " |-- siren: integer (nullable = true)\n",
            " |-- nic: integer (nullable = true)\n",
            " |-- siret: long (nullable = true)\n",
            " |-- statutDiffusionEtablissement: string (nullable = true)\n",
            " |-- dateCreationEtablissement: string (nullable = true)\n",
            " |-- trancheEffectifsEtablissement: string (nullable = true)\n",
            " |-- anneeEffectifsEtablissement: integer (nullable = true)\n",
            " |-- activitePrincipaleRegistreMetiersEtablissement: string (nullable = true)\n",
            " |-- dateDernierTraitementEtablissement: timestamp (nullable = true)\n",
            " |-- etablissementSiege: boolean (nullable = true)\n",
            " |-- nombrePeriodesEtablissement: integer (nullable = true)\n",
            " |-- complementAdresseEtablissement: string (nullable = true)\n",
            " |-- numeroVoieEtablissement: string (nullable = true)\n",
            " |-- indiceRepetitionEtablissement: string (nullable = true)\n",
            " |-- typeVoieEtablissement: string (nullable = true)\n",
            " |-- libelleVoieEtablissement: string (nullable = true)\n",
            " |-- codePostalEtablissement: integer (nullable = true)\n",
            " |-- libelleCommuneEtablissement: string (nullable = true)\n",
            " |-- libelleCommuneEtrangerEtablissement: string (nullable = true)\n",
            " |-- distributionSpecialeEtablissement: string (nullable = true)\n",
            " |-- codeCommuneEtablissement: string (nullable = true)\n",
            " |-- codeCedexEtablissement: string (nullable = true)\n",
            " |-- libelleCedexEtablissement: string (nullable = true)\n",
            " |-- codePaysEtrangerEtablissement: integer (nullable = true)\n",
            " |-- libellePaysEtrangerEtablissement: string (nullable = true)\n",
            " |-- complementAdresse2Etablissement: string (nullable = true)\n",
            " |-- numeroVoie2Etablissement: integer (nullable = true)\n",
            " |-- indiceRepetition2Etablissement: string (nullable = true)\n",
            " |-- typeVoie2Etablissement: string (nullable = true)\n",
            " |-- libelleVoie2Etablissement: string (nullable = true)\n",
            " |-- codePostal2Etablissement: integer (nullable = true)\n",
            " |-- libelleCommune2Etablissement: string (nullable = true)\n",
            " |-- libelleCommuneEtranger2Etablissement: string (nullable = true)\n",
            " |-- distributionSpeciale2Etablissement: string (nullable = true)\n",
            " |-- codeCommune2Etablissement: string (nullable = true)\n",
            " |-- codeCedex2Etablissement: integer (nullable = true)\n",
            " |-- libelleCedex2Etablissement: string (nullable = true)\n",
            " |-- codePaysEtranger2Etablissement: integer (nullable = true)\n",
            " |-- libellePaysEtranger2Etablissement: string (nullable = true)\n",
            " |-- dateDebut: string (nullable = true)\n",
            " |-- etatAdministratifEtablissement: string (nullable = true)\n",
            " |-- enseigne1Etablissement: string (nullable = true)\n",
            " |-- enseigne2Etablissement: string (nullable = true)\n",
            " |-- enseigne3Etablissement: string (nullable = true)\n",
            " |-- denominationUsuelleEtablissement: string (nullable = true)\n",
            " |-- activitePrincipaleEtablissement: string (nullable = true)\n",
            " |-- nomenclatureActivitePrincipaleEtablissement: string (nullable = true)\n",
            " |-- caractereEmployeurEtablissement: string (nullable = true)\n",
            "\n"
          ]
        }
      ]
    },
    {
      "cell_type": "code",
      "source": [
        "#Les 5 première lignes du jeu de données\n",
        "df.show(5)"
      ],
      "metadata": {
        "colab": {
          "base_uri": "https://localhost:8080/"
        },
        "id": "AxQy2MdN-x_B",
        "outputId": "5426064b-b26a-4156-8224-eaab7669006b"
      },
      "execution_count": 32,
      "outputs": [
        {
          "output_type": "stream",
          "name": "stdout",
          "text": [
            "+------+---+-----------+----------------------------+-------------------------+-----------------------------+---------------------------+----------------------------------------------+----------------------------------+------------------+---------------------------+------------------------------+-----------------------+-----------------------------+---------------------+------------------------+-----------------------+---------------------------+-----------------------------------+---------------------------------+------------------------+----------------------+-------------------------+-----------------------------+--------------------------------+-------------------------------+------------------------+------------------------------+----------------------+-------------------------+------------------------+----------------------------+------------------------------------+----------------------------------+-------------------------+-----------------------+--------------------------+------------------------------+---------------------------------+----------+------------------------------+----------------------+----------------------+----------------------+--------------------------------+-------------------------------+-------------------------------------------+-------------------------------+\n",
            "| siren|nic|      siret|statutDiffusionEtablissement|dateCreationEtablissement|trancheEffectifsEtablissement|anneeEffectifsEtablissement|activitePrincipaleRegistreMetiersEtablissement|dateDernierTraitementEtablissement|etablissementSiege|nombrePeriodesEtablissement|complementAdresseEtablissement|numeroVoieEtablissement|indiceRepetitionEtablissement|typeVoieEtablissement|libelleVoieEtablissement|codePostalEtablissement|libelleCommuneEtablissement|libelleCommuneEtrangerEtablissement|distributionSpecialeEtablissement|codeCommuneEtablissement|codeCedexEtablissement|libelleCedexEtablissement|codePaysEtrangerEtablissement|libellePaysEtrangerEtablissement|complementAdresse2Etablissement|numeroVoie2Etablissement|indiceRepetition2Etablissement|typeVoie2Etablissement|libelleVoie2Etablissement|codePostal2Etablissement|libelleCommune2Etablissement|libelleCommuneEtranger2Etablissement|distributionSpeciale2Etablissement|codeCommune2Etablissement|codeCedex2Etablissement|libelleCedex2Etablissement|codePaysEtranger2Etablissement|libellePaysEtranger2Etablissement| dateDebut|etatAdministratifEtablissement|enseigne1Etablissement|enseigne2Etablissement|enseigne3Etablissement|denominationUsuelleEtablissement|activitePrincipaleEtablissement|nomenclatureActivitePrincipaleEtablissement|caractereEmployeurEtablissement|\n",
            "+------+---+-----------+----------------------------+-------------------------+-----------------------------+---------------------------+----------------------------------------------+----------------------------------+------------------+---------------------------+------------------------------+-----------------------+-----------------------------+---------------------+------------------------+-----------------------+---------------------------+-----------------------------------+---------------------------------+------------------------+----------------------+-------------------------+-----------------------------+--------------------------------+-------------------------------+------------------------+------------------------------+----------------------+-------------------------+------------------------+----------------------------+------------------------------------+----------------------------------+-------------------------+-----------------------+--------------------------+------------------------------+---------------------------------+----------+------------------------------+----------------------+----------------------+----------------------+--------------------------------+-------------------------------+-------------------------------------------+-------------------------------+\n",
            "|325175| 16|32517500016|                           O|               2000-09-26|                         null|                       null|                                        3212ZZ|               2015-03-18 00:58:59|             false|                          3|                          null|                   null|                         null|                 null|    MANIHI COTE MONTA...|                  98770|                     MANIHI|                               null|                             null|                   98727|                  null|                     null|                         null|                            null|                           null|                    null|                          null|                  null|                     null|                    null|                        null|                                null|                              null|                     null|                   null|                      null|                          null|                             null|2009-05-27|                             F|                  null|                  null|                  null|                            null|                         32.12Z|                                    NAFRev2|                              N|\n",
            "|325175| 24|32517500024|                           O|               2008-05-20|                         null|                       null|                                          null|               2011-12-12 09:40:04|             false|                          2|                          null|                      1|                         null|                   PL|        LEONCE DE SEYNES|                  84140|                    AVIGNON|                               null|                             null|                   84007|                  null|                     null|                         null|                            null|                           null|                    null|                          null|                  null|                     null|                    null|                        null|                                null|                              null|                     null|                   null|                      null|                          null|                             null|2011-10-21|                             F|  TAHITI PERLES CRE...|                  null|                  null|                            null|                         47.89Z|                                    NAFRev2|                              N|\n",
            "|325175| 32|32517500032|                           O|               2009-05-27|                         null|                       null|                                          null|               2014-07-08 00:10:21|             false|                          2|                      ECONOMIS|                      6|                         null|                   AV|        FRANCOIS MAURIAC|                  84000|                    AVIGNON|                               null|                             null|                   84007|                  null|                     null|                         null|                            null|                           null|                    null|                          null|                  null|                     null|                    null|                        null|                                null|                              null|                     null|                   null|                      null|                          null|                             null|2011-10-21|                             F|  TAHITI PERLES CRE...|                  null|                  null|                            null|                         32.12Z|                                    NAFRev2|                              N|\n",
            "|325175| 40|32517500040|                           O|               2011-10-21|                         null|                       null|                                        3212ZZ|               2015-03-18 00:58:59|             false|                          2|                          null|                    170|                         null|                   AV|        DU COL DE L ANGE|                  13420|                    GEMENOS|                               null|                             null|                   13042|                  null|                     null|                         null|                            null|                           null|                    null|                          null|                  null|                     null|                    null|                        null|                                null|                              null|                     null|                   null|                      null|                          null|                             null|2014-01-07|                             F|  TAHITI PERLES CRE...|                  null|                  null|                            null|                         32.12Z|                                    NAFRev2|                              N|\n",
            "|325175| 57|32517500057|                           O|               2014-01-07|                         null|                       null|                                          null|               2018-07-10 14:17:15|             false|                          2|                          null|                     61|                         null|                  RUE|             MARX DORMOY|                  13004|                MARSEILLE 4|                               null|                             null|                   13204|                  null|                     null|                         null|                            null|                           null|                    null|                          null|                  null|                     null|                    null|                        null|                                null|                              null|                     null|                   null|                      null|                          null|                             null|2018-02-07|                             F|  TAHITI PERLES CRE...|                  null|                  null|                            null|                         32.12Z|                                    NAFRev2|                              N|\n",
            "+------+---+-----------+----------------------------+-------------------------+-----------------------------+---------------------------+----------------------------------------------+----------------------------------+------------------+---------------------------+------------------------------+-----------------------+-----------------------------+---------------------+------------------------+-----------------------+---------------------------+-----------------------------------+---------------------------------+------------------------+----------------------+-------------------------+-----------------------------+--------------------------------+-------------------------------+------------------------+------------------------------+----------------------+-------------------------+------------------------+----------------------------+------------------------------------+----------------------------------+-------------------------+-----------------------+--------------------------+------------------------------+---------------------------------+----------+------------------------------+----------------------+----------------------+----------------------+--------------------------------+-------------------------------+-------------------------------------------+-------------------------------+\n",
            "only showing top 5 rows\n",
            "\n"
          ]
        }
      ]
    },
    {
      "cell_type": "code",
      "source": [
        "#nombre de ligne du jeu de donnée\n",
        "df.count()"
      ],
      "metadata": {
        "colab": {
          "base_uri": "https://localhost:8080/"
        },
        "id": "5QdpaZea_MJ2",
        "outputId": "80c4bd30-2673-450a-ddf4-857bfc83ce53"
      },
      "execution_count": 34,
      "outputs": [
        {
          "output_type": "execute_result",
          "data": {
            "text/plain": [
              "32648533"
            ]
          },
          "metadata": {},
          "execution_count": 34
        }
      ]
    },
    {
      "cell_type": "code",
      "source": [
        "#nombre de partitions utilisés pour traiter le jeu de données\n",
        "df.rdd.getNumPartitions()"
      ],
      "metadata": {
        "colab": {
          "base_uri": "https://localhost:8080/"
        },
        "id": "5smydh8i_bZL",
        "outputId": "07164fde-6335-4bff-dd45-9db9dc7ac74b"
      },
      "execution_count": 35,
      "outputs": [
        {
          "output_type": "execute_result",
          "data": {
            "text/plain": [
              "43"
            ]
          },
          "metadata": {},
          "execution_count": 35
        }
      ]
    },
    {
      "cell_type": "code",
      "source": [
        ""
      ],
      "metadata": {
        "id": "uhBEhT-0AdUW"
      },
      "execution_count": null,
      "outputs": []
    },
    {
      "cell_type": "markdown",
      "source": [
        ""
      ],
      "metadata": {
        "id": "XOZ0begO4biI"
      }
    }
  ]
}