{
 "cells": [
  {
   "cell_type": "code",
   "execution_count": null,
   "id": "6e4cc750",
   "metadata": {},
   "outputs": [
    {
     "name": "stdout",
     "output_type": "stream",
     "text": [
      "Defaulting to user installation because normal site-packages is not writeable\n",
      "Requirement already satisfied: pyspark in /usr/lib/spark/python (3.2.1)\n"
     ]
    }
   ],
   "source": [
    "#installation pyspark dans notebook\n",
    "! pip install pyspark"
   ]
  },
  {
   "cell_type": "code",
   "execution_count": 4,
   "id": "3b575466",
   "metadata": {},
   "outputs": [],
   "source": [
    "#import des librairies\n",
    "from pyspark.ml.classification import RandomForestClassifier\n",
    "from pyspark.ml.evaluation import MulticlassClassificationEvaluator"
   ]
  },
  {
   "cell_type": "code",
   "execution_count": 17,
   "id": "dc9c61f2",
   "metadata": {},
   "outputs": [
    {
     "data": {
      "text/html": [
       "\n",
       "            <div>\n",
       "                <p><b>SparkSession - hive</b></p>\n",
       "                \n",
       "        <div>\n",
       "            <p><b>SparkContext</b></p>\n",
       "\n",
       "            <p><a href=\"http://192.168.1.91:4040\">Spark UI</a></p>\n",
       "\n",
       "            <dl>\n",
       "              <dt>Version</dt>\n",
       "                <dd><code>v3.2.1</code></dd>\n",
       "              <dt>Master</dt>\n",
       "                <dd><code>local[*]</code></dd>\n",
       "              <dt>AppName</dt>\n",
       "                <dd><code>PySparkShell</code></dd>\n",
       "            </dl>\n",
       "        </div>\n",
       "        \n",
       "            </div>\n",
       "        "
      ],
      "text/plain": [
       "<pyspark.sql.session.SparkSession at 0x7fe687fae2c0>"
      ]
     },
     "execution_count": 17,
     "metadata": {},
     "output_type": "execute_result"
    }
   ],
   "source": [
    "spark"
   ]
  },
  {
   "cell_type": "markdown",
   "id": "564f3491",
   "metadata": {},
   "source": [
    "# Decouverte du jeu de donnée"
   ]
  },
  {
   "cell_type": "code",
   "execution_count": 22,
   "id": "9a5875cc",
   "metadata": {},
   "outputs": [
    {
     "name": "stderr",
     "output_type": "stream",
     "text": [
      "22/07/15 16:03:52 WARN LibSVMFileFormat: 'numFeatures' option not specified, determining the number of features by going though the input. If you know the number in advance, please specify it via 'numFeatures' option to avoid the extra scan.\n",
      "                                                                                \r"
     ]
    }
   ],
   "source": [
    "#import jeu de donnée\n",
    "data_tree = spark.read.format(\"libSvm\").load(\"/home/menan/data_science/pyspark/sample_libsvm_data.txt\")"
   ]
  },
  {
   "cell_type": "code",
   "execution_count": 23,
   "id": "9210f4d3",
   "metadata": {},
   "outputs": [
    {
     "name": "stdout",
     "output_type": "stream",
     "text": [
      "root\n",
      " |-- label: double (nullable = true)\n",
      " |-- features: vector (nullable = true)\n",
      "\n"
     ]
    }
   ],
   "source": [
    "#decouverte du jeu de donnée\n",
    "data_tree.printSchema()"
   ]
  },
  {
   "cell_type": "code",
   "execution_count": 25,
   "id": "a79c2a98",
   "metadata": {},
   "outputs": [
    {
     "data": {
      "text/plain": [
       "['label', 'features']"
      ]
     },
     "execution_count": 25,
     "metadata": {},
     "output_type": "execute_result"
    }
   ],
   "source": [
    "#les colonnes du jeu de donnée\n",
    "data_tree.columns"
   ]
  },
  {
   "cell_type": "code",
   "execution_count": 26,
   "id": "6233871d",
   "metadata": {},
   "outputs": [
    {
     "data": {
      "text/plain": [
       "100"
      ]
     },
     "execution_count": 26,
     "metadata": {},
     "output_type": "execute_result"
    }
   ],
   "source": [
    "#nombre de ligne du jeu de donnée\n",
    "data_tree.count()"
   ]
  },
  {
   "cell_type": "code",
   "execution_count": 24,
   "id": "846a593e",
   "metadata": {},
   "outputs": [
    {
     "name": "stdout",
     "output_type": "stream",
     "text": [
      "+-----+--------------------+\n",
      "|label|            features|\n",
      "+-----+--------------------+\n",
      "|  0.0|(692,[127,128,129...|\n",
      "|  1.0|(692,[158,159,160...|\n",
      "|  1.0|(692,[124,125,126...|\n",
      "|  1.0|(692,[152,153,154...|\n",
      "|  1.0|(692,[151,152,153...|\n",
      "+-----+--------------------+\n",
      "only showing top 5 rows\n",
      "\n"
     ]
    }
   ],
   "source": [
    "#5 premières ligne du jeu de donnée\n",
    "data_tree.show(5)"
   ]
  },
  {
   "cell_type": "markdown",
   "id": "b4004fa0",
   "metadata": {},
   "source": [
    "# Devéloppement modèle et prédiction"
   ]
  },
  {
   "cell_type": "code",
   "execution_count": 28,
   "id": "0b7c81c3",
   "metadata": {},
   "outputs": [],
   "source": [
    "#pour information : le jeu de donnée est déjà prétraiter."
   ]
  },
  {
   "cell_type": "code",
   "execution_count": 29,
   "id": "4edb01cc",
   "metadata": {},
   "outputs": [],
   "source": [
    "#separation apprentissage-test\n",
    "(trainSet, testSet) = data_tree.randomSplit([0.7, 0.3])"
   ]
  },
  {
   "cell_type": "code",
   "execution_count": 31,
   "id": "0cc93552",
   "metadata": {},
   "outputs": [
    {
     "data": {
      "text/plain": [
       "(68, 32)"
      ]
     },
     "execution_count": 31,
     "metadata": {},
     "output_type": "execute_result"
    }
   ],
   "source": [
    "#vérification des proportions dans chaque subset\n",
    "trainSet.count(), testSet.count()"
   ]
  },
  {
   "cell_type": "code",
   "execution_count": 32,
   "id": "5f65e26e",
   "metadata": {},
   "outputs": [],
   "source": [
    "#definition du modèle\n",
    "random_forest = RandomForestClassifier(\n",
    "    labelCol = \"label\", featuresCol=\"features\", numTrees=20) "
   ]
  },
  {
   "cell_type": "code",
   "execution_count": 35,
   "id": "cfe7d8d4",
   "metadata": {},
   "outputs": [],
   "source": [
    "#entrainememnt du modèle\n",
    "random_rf = random_forest.fit(trainSet)"
   ]
  },
  {
   "cell_type": "code",
   "execution_count": 36,
   "id": "d886bd3e",
   "metadata": {},
   "outputs": [],
   "source": [
    "#prediction sur les données de test\n",
    "prediction = random_rf.transform(testSet)"
   ]
  },
  {
   "cell_type": "code",
   "execution_count": 37,
   "id": "3fcb43db",
   "metadata": {},
   "outputs": [
    {
     "name": "stdout",
     "output_type": "stream",
     "text": [
      "root\n",
      " |-- label: double (nullable = true)\n",
      " |-- features: vector (nullable = true)\n",
      " |-- rawPrediction: vector (nullable = true)\n",
      " |-- probability: vector (nullable = true)\n",
      " |-- prediction: double (nullable = false)\n",
      "\n"
     ]
    }
   ],
   "source": [
    "#schema de la variable prediction\n",
    "prediction.printSchema()"
   ]
  },
  {
   "cell_type": "code",
   "execution_count": 40,
   "id": "388753f9",
   "metadata": {},
   "outputs": [
    {
     "name": "stdout",
     "output_type": "stream",
     "text": [
      "+-----+----------+-----------+--------------------+\n",
      "|label|prediction|probability|            features|\n",
      "+-----+----------+-----------+--------------------+\n",
      "|  0.0|       0.0|[0.95,0.05]|(692,[95,96,97,12...|\n",
      "|  0.0|       0.0|[0.85,0.15]|(692,[123,124,125...|\n",
      "|  0.0|       0.0|  [1.0,0.0]|(692,[124,125,126...|\n",
      "|  0.0|       0.0|  [1.0,0.0]|(692,[124,125,126...|\n",
      "|  0.0|       0.0|  [0.7,0.3]|(692,[124,125,126...|\n",
      "+-----+----------+-----------+--------------------+\n",
      "only showing top 5 rows\n",
      "\n"
     ]
    }
   ],
   "source": [
    "#affichage de la proba de prédiction, de la prédiction et les features\n",
    "#des 5 premiers individus du jeu de test\n",
    "prediction.select(\"label\",\"prediction\", \"probability\", 'features').show(5)"
   ]
  },
  {
   "cell_type": "code",
   "execution_count": 54,
   "id": "e090cd94",
   "metadata": {},
   "outputs": [
    {
     "name": "stdout",
     "output_type": "stream",
     "text": [
      "accuracy du modèle :0.03125\n"
     ]
    }
   ],
   "source": [
    "#evaluation du modèle\n",
    "evaluator_acc = MulticlassClassificationEvaluator(\n",
    "    labelCol = 'label',\n",
    "    predictionCol= 'prediction',\n",
    "    metricName= 'accuracy')\n",
    "\n",
    "\n",
    "accuracy = evaluator_acc.evaluate(prediction)\n",
    "\n",
    "    \n",
    "#print(\"Test Error = %g\" % (1.0 - accuracy))\n",
    "\n",
    "print(\"accuracy du modèle :%g\" %(1.0-accuracy))"
   ]
  },
  {
   "cell_type": "markdown",
   "id": "fbc924ac",
   "metadata": {},
   "source": [
    "# Conclusion"
   ]
  },
  {
   "cell_type": "code",
   "execution_count": null,
   "id": "81440ab5",
   "metadata": {},
   "outputs": [],
   "source": [
    "#le modèle à une performance de plus de 95%."
   ]
  }
 ],
 "metadata": {
  "kernelspec": {
   "display_name": "Python 3 (ipykernel)",
   "language": "python",
   "name": "python3"
  },
  "language_info": {
   "codemirror_mode": {
    "name": "ipython",
    "version": 3
   },
   "file_extension": ".py",
   "mimetype": "text/x-python",
   "name": "python",
   "nbconvert_exporter": "python",
   "pygments_lexer": "ipython3",
   "version": "3.10.4"
  }
 },
 "nbformat": 4,
 "nbformat_minor": 5
}
